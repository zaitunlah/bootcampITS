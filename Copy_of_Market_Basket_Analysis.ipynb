{
  "nbformat": 4,
  "nbformat_minor": 0,
  "metadata": {
    "colab": {
      "private_outputs": true,
      "provenance": [],
      "include_colab_link": true
    },
    "kernelspec": {
      "name": "python3",
      "display_name": "Python 3"
    },
    "language_info": {
      "name": "python"
    }
  },
  "cells": [
    {
      "cell_type": "markdown",
      "metadata": {
        "id": "view-in-github",
        "colab_type": "text"
      },
      "source": [
        "<a href=\"https://colab.research.google.com/github/zaitunlah/bootcampITS/blob/master/Copy_of_Market_Basket_Analysis.ipynb\" target=\"_parent\"><img src=\"https://colab.research.google.com/assets/colab-badge.svg\" alt=\"Open In Colab\"/></a>"
      ]
    },
    {
      "cell_type": "markdown",
      "source": [
        "# ***Silakan Save a Copy dulu sebelum menggunakan notebook ini!***"
      ],
      "metadata": {
        "id": "-r6lV8gO849b"
      }
    },
    {
      "cell_type": "code",
      "source": [
        "from google.colab import drive\n",
        "drive.mount('/content/drive')"
      ],
      "metadata": {
        "id": "Fsw2LDUQLKQT"
      },
      "execution_count": null,
      "outputs": []
    },
    {
      "cell_type": "markdown",
      "source": [
        "Library yang akan digunakan"
      ],
      "metadata": {
        "id": "5N0fTg4Dlh_A"
      }
    },
    {
      "cell_type": "code",
      "execution_count": null,
      "metadata": {
        "id": "Cal0Kqrhk2z6"
      },
      "outputs": [],
      "source": [
        "#Import all relevant libraries\n",
        "import pandas as pd\n",
        "import matplotlib.pyplot as plt\n",
        "import seaborn as sns\n",
        "import numpy as np\n",
        "import seaborn as sns\n",
        "\n",
        "from mlxtend.frequent_patterns import apriori\n",
        "from mlxtend.frequent_patterns import association_rules"
      ]
    },
    {
      "cell_type": "markdown",
      "source": [
        "# 0. Metode untuk Transformasi Struktur Dataset"
      ],
      "metadata": {
        "id": "6iQ-MjolCrhz"
      }
    },
    {
      "cell_type": "markdown",
      "source": [
        "## Membuat DataFrame (Format List dengan Koma)"
      ],
      "metadata": {
        "id": "RJrxc1coD5r0"
      }
    },
    {
      "cell_type": "code",
      "source": [
        "dat = {'Trx': ['T1', 'T2', 'T3', 'T4', 'T5'],\n",
        "        'Items': ['B,C,E', 'A,C,D', 'A,C,D,E', 'A,D', 'A,C,E']\n",
        "        }"
      ],
      "metadata": {
        "id": "kOJyUaDzDXgS"
      },
      "execution_count": null,
      "outputs": []
    },
    {
      "cell_type": "code",
      "source": [
        "df_sample = pd.DataFrame(dat)\n",
        "df_sample"
      ],
      "metadata": {
        "id": "Q7hHP5MvC2gn"
      },
      "execution_count": null,
      "outputs": []
    },
    {
      "cell_type": "markdown",
      "source": [
        "## Transformasi ke Format 1 Item per Baris"
      ],
      "metadata": {
        "id": "UToHaw56EQdV"
      }
    },
    {
      "cell_type": "code",
      "source": [
        "df_sample['Items'].str.get_dummies(sep=',')"
      ],
      "metadata": {
        "id": "w15pi9pPEZO-"
      },
      "execution_count": null,
      "outputs": []
    },
    {
      "cell_type": "code",
      "source": [
        "df_sample = df_sample.join(df_sample['Items'].str.get_dummies(sep=','))\n",
        "df_sample"
      ],
      "metadata": {
        "id": "ARzuf_JhFwxw"
      },
      "execution_count": null,
      "outputs": []
    },
    {
      "cell_type": "markdown",
      "source": [
        "#1. Persiapan Data#"
      ],
      "metadata": {
        "id": "yWaXgIYdJnJz"
      }
    },
    {
      "cell_type": "markdown",
      "source": [
        "## Upload Dataset"
      ],
      "metadata": {
        "id": "X5kW4Wc88JVm"
      }
    },
    {
      "cell_type": "markdown",
      "source": [
        "Upload file `data_transaksi_retail.xlsx`\n",
        "\n",
        "(bisa langsung, atau melalui  Mount Drive)"
      ],
      "metadata": {
        "id": "6LbsIl4v8MjC"
      }
    },
    {
      "cell_type": "markdown",
      "source": [
        "##Membaca Data Set dan Eksplorasi Data##"
      ],
      "metadata": {
        "id": "TNHbqLXpl3cz"
      }
    },
    {
      "cell_type": "code",
      "source": [
        "data=pd.read_excel('data_transaksi_retail.xlsx')"
      ],
      "metadata": {
        "id": "GoPjRkiMmGcW"
      },
      "execution_count": null,
      "outputs": []
    },
    {
      "cell_type": "code",
      "source": [
        "data"
      ],
      "metadata": {
        "id": "LtwRZ97Jwzml"
      },
      "execution_count": null,
      "outputs": []
    },
    {
      "cell_type": "code",
      "source": [
        "data.head()"
      ],
      "metadata": {
        "id": "hSwql_nOyXoq"
      },
      "execution_count": null,
      "outputs": []
    },
    {
      "cell_type": "code",
      "source": [
        "# Cek struktur dataset\n",
        "data.info()"
      ],
      "metadata": {
        "id": "nTdUfMAbyfsb"
      },
      "execution_count": null,
      "outputs": []
    },
    {
      "cell_type": "code",
      "source": [
        "# Cek apakah ada data kosong\n",
        "data.isna().sum()"
      ],
      "metadata": {
        "id": "b-s8uREl_zUp"
      },
      "execution_count": null,
      "outputs": []
    },
    {
      "cell_type": "code",
      "source": [
        "# Ada berapa unique product?\n",
        "print(data['Nama Barang'].nunique())\n",
        "data['Nama Barang'].unique()"
      ],
      "metadata": {
        "id": "idURR78K-h7X"
      },
      "execution_count": null,
      "outputs": []
    },
    {
      "cell_type": "code",
      "source": [
        "# Apa produk yang paling sering dibeli?\n",
        "data['Nama Barang'].value_counts()"
      ],
      "metadata": {
        "id": "CgNZRCExmVGs"
      },
      "execution_count": null,
      "outputs": []
    },
    {
      "cell_type": "code",
      "source": [
        "# buat visualisasi top 10 barang laris\n",
        "\n",
        "df_laris = data['Nama Barang'].value_counts().reset_index()\n",
        "df_laris.columns = ['Nama Barang', 'Transaksi']\n",
        "sns.barplot(x='Nama Barang', y='Transaksi', data = df_laris.head(10))"
      ],
      "metadata": {
        "id": "m8M_P3thmoxh"
      },
      "execution_count": null,
      "outputs": []
    },
    {
      "cell_type": "code",
      "source": [
        "# Cek jumlah transaksi\n",
        "df_summary = data.groupby('Kode Transaksi').agg({'Nama Barang': ['count'], 'Quantity': ['sum']}).reset_index()\n",
        "df_summary"
      ],
      "metadata": {
        "id": "5GV3WMV19RtO"
      },
      "execution_count": null,
      "outputs": []
    },
    {
      "cell_type": "code",
      "source": [
        "df_summary.columns = ['Kode Transaksi','Jenis Barang', 'Jumlah Barang']\n",
        "df_summary"
      ],
      "metadata": {
        "id": "SpiHfOBD9x5l"
      },
      "execution_count": null,
      "outputs": []
    },
    {
      "cell_type": "code",
      "source": [
        "# Distribusi Jumlah Barang per Transaksi\n",
        "sns.histplot(df_summary['Jumlah Barang'])"
      ],
      "metadata": {
        "id": "pEeOjfHC9-Mc"
      },
      "execution_count": null,
      "outputs": []
    },
    {
      "cell_type": "markdown",
      "source": [
        "## Pre-processing"
      ],
      "metadata": {
        "id": "RSQoA9YTJxBD"
      }
    },
    {
      "cell_type": "markdown",
      "source": [
        "Kita perlu untuk mengubah formatnya agar tiap kolom merepresentasikan 1 item, dengan nilai 1 (ada) atau 0 (tidak ada)"
      ],
      "metadata": {
        "id": "3XLQKon0_Bqz"
      }
    },
    {
      "cell_type": "code",
      "source": [
        "data_basket = (data.groupby(['Kode Transaksi', 'Nama Barang'])['Quantity'].count()\\\n",
        "                                      .unstack().reset_index().fillna(0)\\\n",
        "                                      .set_index('Kode Transaksi'))"
      ],
      "metadata": {
        "id": "xnexJC6iLH2c"
      },
      "execution_count": null,
      "outputs": []
    },
    {
      "cell_type": "code",
      "source": [
        "data_basket"
      ],
      "metadata": {
        "id": "COQve-ssx7Xn"
      },
      "execution_count": null,
      "outputs": []
    },
    {
      "cell_type": "code",
      "source": [
        "# Show a subset of columns\n",
        "data_basket.iloc[:,[0,1,2,3,4,5,6,7]].head()"
      ],
      "metadata": {
        "id": "lBkl-1TESCq2"
      },
      "execution_count": null,
      "outputs": []
    },
    {
      "cell_type": "code",
      "source": [
        "# Melakukan proses encoding -> Mengubah data kebentuk angka, agar sistem atau komputer dapat memahami informasi dari dataset\n",
        "def encode_units(x):\n",
        "    if x <= 0:\n",
        "        return 0\n",
        "    if x >= 1:\n",
        "        return 1\n",
        "\n",
        "data_sets = data_basket.applymap(encode_units)\n",
        "data_sets.head(5)"
      ],
      "metadata": {
        "id": "-Bug5xiWSJ8M"
      },
      "execution_count": null,
      "outputs": []
    },
    {
      "cell_type": "markdown",
      "source": [
        "Tujuan dalam encoding ini adalah memastikan jika barang kurang dari sama dengan 0 maka keranjang tersebut bernilai 0 dan jika lebih dari 1 maka nilainya adalah 1, sehingga jika sebuah nota membeli barang A sebanyak 10 buah maka hanya akan dihitung 1."
      ],
      "metadata": {
        "id": "alZpCz4GSaWW"
      }
    },
    {
      "cell_type": "markdown",
      "source": [
        "#2. Association Rules Mining"
      ],
      "metadata": {
        "id": "EFlSNC0ASpRB"
      }
    },
    {
      "cell_type": "markdown",
      "source": [
        "## Membuat Frequent Itemsets"
      ],
      "metadata": {
        "id": "Jh4_OIh9VneV"
      }
    },
    {
      "cell_type": "code",
      "source": [
        "frequent_itemsets = apriori(data_sets, min_support=0.1, use_colnames=True)\n",
        "frequent_itemsets"
      ],
      "metadata": {
        "id": "_gH7WKsGSrfA"
      },
      "execution_count": null,
      "outputs": []
    },
    {
      "cell_type": "markdown",
      "source": [
        "## Membuat Association Rules"
      ],
      "metadata": {
        "id": "l9fSWviRPUAt"
      }
    },
    {
      "cell_type": "code",
      "source": [
        "rules0_1 = association_rules(frequent_itemsets, metric=\"confidence\", min_threshold=0.6)\n",
        "rules0_1"
      ],
      "metadata": {
        "id": "oXkAf1mgV7VJ"
      },
      "execution_count": null,
      "outputs": []
    },
    {
      "cell_type": "markdown",
      "source": [
        "## Eksplorasi Frequent Itemsets"
      ],
      "metadata": {
        "id": "Ny9sTdqGU7fw"
      }
    },
    {
      "cell_type": "code",
      "source": [
        "frequent_itemsets = apriori(data_sets, min_support=0.1, use_colnames=True)\n",
        "frequent_itemsets"
      ],
      "metadata": {
        "id": "uXWucTxPU-DZ"
      },
      "execution_count": null,
      "outputs": []
    },
    {
      "cell_type": "code",
      "source": [
        "# Menentukan size tiap itemset\n",
        "frequent_itemsets['k'] = frequent_itemsets['itemsets'].apply(lambda x: len(x))\n",
        "frequent_itemsets"
      ],
      "metadata": {
        "id": "KFj9je4Ck4j4"
      },
      "execution_count": null,
      "outputs": []
    },
    {
      "cell_type": "code",
      "source": [
        "# Mengurutkan dari yang support tertinggi\n",
        "frequent_itemsets.sort_values('support', ascending=False)"
      ],
      "metadata": {
        "id": "l5EFwJ_okrC3"
      },
      "execution_count": null,
      "outputs": []
    },
    {
      "cell_type": "code",
      "source": [
        "# Filter frequent itemset dengan item tertentu\n",
        "frequent_itemsets[frequent_itemsets['itemsets'].apply(lambda x: 'Celana Jogger Casual' in x)]"
      ],
      "metadata": {
        "id": "_pmLwwMlVSqj"
      },
      "execution_count": null,
      "outputs": []
    },
    {
      "cell_type": "markdown",
      "source": [
        "## Praktek"
      ],
      "metadata": {
        "id": "_BVWNhgOQJbg"
      }
    },
    {
      "cell_type": "markdown",
      "source": [
        "Dengan data `df_sample` di atas, coba cari semua frequent itemsets dengan kriteria:\n",
        "- minimum support 0.3\n",
        "- mengandung item Ceri\n",
        "- Diurutkan dari support tertinggi\n",
        "\n",
        "Ada berapa itemset yang ditemukan? Berapa nilai support terkecil yang terambil?"
      ],
      "metadata": {
        "id": "DUYMiQbHQSW0"
      }
    },
    {
      "cell_type": "code",
      "source": [
        "# tulis code di sini\n",
        "\n"
      ],
      "metadata": {
        "id": "49MTxGe8lZ3g"
      },
      "execution_count": null,
      "outputs": []
    },
    {
      "cell_type": "markdown",
      "source": [
        "Dengan frequent itemset di atas, buatlah association rules dengan confidence >= 0.7\n",
        "\n",
        "Ada berapa rules yang diperoleh? Berapa nilai lift tertinggi?"
      ],
      "metadata": {
        "id": "HDmyIiuBlaUz"
      }
    },
    {
      "cell_type": "code",
      "source": [
        "# tulis code di sini\n",
        "\n"
      ],
      "metadata": {
        "id": "uW5mXhsnmJp0"
      },
      "execution_count": null,
      "outputs": []
    },
    {
      "cell_type": "markdown",
      "source": [
        "# Kesimpulan"
      ],
      "metadata": {
        "id": "UrU_Rt1wrB2I"
      }
    },
    {
      "cell_type": "markdown",
      "source": [
        "Algoritma apriori adalah salah satu algoritma yang merupakan penerapan praktis dari Market Basket Analysis (MBA). Algoritma ini digunakan untuk menganalisa banyaknya kombinasi produk yang terjadi di dalam transaksi ritel, yang akan sulit dan lama jika dilakukan secara manual.\n",
        "\n",
        "Secara teknis, algoritma apriori akan mencari tingkat asosiasi antar item di dalam banyak kombinasi kelompok data secara otomatis. Kombinasi ini juga bisa disusun dengan suatu aturan (rule) asosiasi \"Jika membeli ini produk A maka akan membeli produk B\", sehingga algoritma ini dikategorikan sebagai Association Rules di ranah machine learning.\n",
        "\n",
        "Dengan menemukan paket produk yang asosiasinya kuat, Anda sebagai seorang data scientist dapat menyarankan kepada bisnis dapat melakukan berbagai action item seperti membuat paket produk dengan penawaran khusus, mendekatkan produk-produk tersebut saling berdekatan dalam satu rak, mengeluarkan rekomendasi produk di sistem e-commerce, mengurangi masalah stok, dan lain-lain."
      ],
      "metadata": {
        "id": "5k2bG5e3V3ol"
      }
    }
  ]
}